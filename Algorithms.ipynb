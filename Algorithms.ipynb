{
 "cells": [
  {
   "cell_type": "markdown",
   "metadata": {},
   "source": [
    "Hackerrank:\n",
    "\n",
    "Given a sequence o n integers p(1), p(2), ... , p(n), where each x is in [1, n].\n",
    "For each x, find an y such that p(p(y)) = x.\n",
    "\n",
    "p = [5, 2, 1, 3, 4]\n",
    "\n",
    "    x = 1 => 1 = p[3], 3 = p[4] => p[p[4]] = 1\n",
    "    x = 2 => 2 = p[2], 2 = p[2] => p[p[2]] = 2\n",
    "    x = 3 => 3 = p[4], 4 = p[5] => p[p[5]] = 3\n",
    "    x = 4 => 4 = p[5], 5 = p[1] => p[p[1]] = 4\n",
    "    x = 5 => 5 = p[1], 1 = p[3] => p[p[3]] = 5\n",
    "\n",
    "Input:\n",
    "\n",
    "    5\n",
    "    5 2 1 3 4\n",
    "\n",
    "Output:\n",
    "\n",
    "    4\n",
    "    2\n",
    "    5\n",
    "    1\n",
    "    3\n"
   ]
  },
  {
   "cell_type": "code",
   "execution_count": 9,
   "metadata": {},
   "outputs": [
    {
     "name": "stdout",
     "output_type": "stream",
     "text": [
      "5\n",
      "5 2 1 3 4\n",
      "4\n",
      "2\n",
      "5\n",
      "1\n",
      "3\n",
      "\n",
      "\n"
     ]
    }
   ],
   "source": [
    "import math\n",
    "import os\n",
    "import random\n",
    "import re\n",
    "import sys\n",
    "\n",
    "# Complete the permutationEquation function below.\n",
    "def permutationEquation(p):\n",
    "    result = []\n",
    "    for x in range(1, len(p) + 1):\n",
    "        for k in range(1, len(p) + 1):\n",
    "            if x == p[k-1]:\n",
    "                for y in range(1, len(p) + 1):\n",
    "                    if p[y-1] == k:\n",
    "                        result.append(y)\n",
    "    return result\n",
    "\n",
    "if __name__ == '__main__':\n",
    "    n = int(input())\n",
    "\n",
    "    p = list(map(int, input().rstrip().split()))\n",
    "\n",
    "    result = permutationEquation(p)\n",
    "\n",
    "    print('\\n'.join(map(str, result)))\n",
    "    print('\\n')"
   ]
  },
  {
   "cell_type": "code",
   "execution_count": null,
   "metadata": {},
   "outputs": [],
   "source": []
  }
 ],
 "metadata": {
  "kernelspec": {
   "display_name": "Python 3",
   "language": "python",
   "name": "python3"
  },
  "language_info": {
   "codemirror_mode": {
    "name": "ipython",
    "version": 3
   },
   "file_extension": ".py",
   "mimetype": "text/x-python",
   "name": "python",
   "nbconvert_exporter": "python",
   "pygments_lexer": "ipython3",
   "version": "3.6.4"
  }
 },
 "nbformat": 4,
 "nbformat_minor": 2
}
